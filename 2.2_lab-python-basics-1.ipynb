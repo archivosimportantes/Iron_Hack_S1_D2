{
 "cells": [
  {
   "cell_type": "markdown",
   "id": "66b14279",
   "metadata": {
    "id": "66b14279"
   },
   "source": [
    "## Section 1: Tuples\n",
    "\n",
    "#### Do you know you can create tuples with only one element?\n",
    "\n",
    "**In the cell below, define a variable `tup` with a single element `\"I\"`.**\n",
    "\n",
    "*Hint: you need to add a comma (`,`) after the single element. The reason for this is that a tuple is defined as a series of comma-separated values. The parenthesis are not actually needed and are used simply for clarity. Therefore if we try to create a tuple without using a comma Python will simply interpret the element as a single element, be it a string, int or other types.*"
   ]
  },
  {
   "cell_type": "code",
   "execution_count": 2,
   "id": "b8426358",
   "metadata": {
    "id": "b8426358"
   },
   "outputs": [
    {
     "name": "stdout",
     "output_type": "stream",
     "text": [
      "('I',)\n"
     ]
    }
   ],
   "source": [
    "class Tuple:\n",
    "    def new_tuple():\n",
    "        tup = (\"I\",)\n",
    "        print(tup)\n",
    "Tuple.new_tuple()"
   ]
  },
  {
   "cell_type": "markdown",
   "id": "2840c046",
   "metadata": {
    "id": "2840c046"
   },
   "source": [
    "#### Print the type of `tup`. \n",
    "\n",
    "Make sure its type is correct (i.e. *tuple* instead of *str*)."
   ]
  },
  {
   "cell_type": "code",
   "execution_count": 10,
   "id": "77753d4e",
   "metadata": {
    "id": "77753d4e"
   },
   "outputs": [
    {
     "name": "stdout",
     "output_type": "stream",
     "text": [
      "<class 'tuple'>\n"
     ]
    }
   ],
   "source": [
    "class Tuple:\n",
    "    def new_tuple():\n",
    "        tup = (\"I\",)\n",
    "        print(type(tup))\n",
    "Tuple.new_tuple()"
   ]
  },
  {
   "cell_type": "markdown",
   "id": "9b5aa36c",
   "metadata": {
    "id": "9b5aa36c"
   },
   "source": [
    "#### Now try to append the following elements to `tup`. \n",
    "\n",
    "Are you able to do it? Explain.\n",
    "\n",
    "```\n",
    "\"r\", \"o\", \"n\", \"h\", \"a\", \"c\", \"k\"\n",
    "```"
   ]
  },
  {
   "cell_type": "code",
   "execution_count": 3,
   "id": "3746e679",
   "metadata": {
    "id": "3746e679"
   },
   "outputs": [
    {
     "ename": "AttributeError",
     "evalue": "'tuple' object has no attribute 'append'",
     "output_type": "error",
     "traceback": [
      "\u001b[1;31m---------------------------------------------------------------------------\u001b[0m",
      "\u001b[1;31mAttributeError\u001b[0m                            Traceback (most recent call last)",
      "\u001b[1;32m~\\AppData\\Local\\Temp/ipykernel_3560/4047479264.py\u001b[0m in \u001b[0;36m<module>\u001b[1;34m\u001b[0m\n\u001b[0;32m      3\u001b[0m         \u001b[0mtup\u001b[0m \u001b[1;33m=\u001b[0m \u001b[1;33m(\u001b[0m\u001b[1;34m\"I\"\u001b[0m\u001b[1;33m,\u001b[0m\u001b[1;33m)\u001b[0m\u001b[1;33m\u001b[0m\u001b[1;33m\u001b[0m\u001b[0m\n\u001b[0;32m      4\u001b[0m         \u001b[0mtup\u001b[0m\u001b[1;33m.\u001b[0m\u001b[0mappend\u001b[0m\u001b[1;33m(\u001b[0m\u001b[1;34m\"r\"\u001b[0m\u001b[1;33m,\u001b[0m \u001b[1;34m\"o\"\u001b[0m\u001b[1;33m,\u001b[0m \u001b[1;34m\"n\"\u001b[0m\u001b[1;33m,\u001b[0m \u001b[1;34m\"h\"\u001b[0m\u001b[1;33m,\u001b[0m \u001b[1;34m\"a\"\u001b[0m\u001b[1;33m,\u001b[0m \u001b[1;34m\"c\"\u001b[0m\u001b[1;33m,\u001b[0m \u001b[1;34m\"k\"\u001b[0m\u001b[1;33m)\u001b[0m\u001b[1;33m\u001b[0m\u001b[1;33m\u001b[0m\u001b[0m\n\u001b[1;32m----> 5\u001b[1;33m \u001b[0mTuple\u001b[0m\u001b[1;33m.\u001b[0m\u001b[0mcreate_tup\u001b[0m\u001b[1;33m(\u001b[0m\u001b[1;33m)\u001b[0m\u001b[1;33m\u001b[0m\u001b[1;33m\u001b[0m\u001b[0m\n\u001b[0m\u001b[0;32m      6\u001b[0m \u001b[1;33m\u001b[0m\u001b[0m\n\u001b[0;32m      7\u001b[0m \u001b[1;31m# tuples can be added, not appended\u001b[0m\u001b[1;33m\u001b[0m\u001b[1;33m\u001b[0m\u001b[0m\n",
      "\u001b[1;32m~\\AppData\\Local\\Temp/ipykernel_3560/4047479264.py\u001b[0m in \u001b[0;36mcreate_tup\u001b[1;34m()\u001b[0m\n\u001b[0;32m      2\u001b[0m     \u001b[1;32mdef\u001b[0m \u001b[0mcreate_tup\u001b[0m\u001b[1;33m(\u001b[0m\u001b[1;33m)\u001b[0m\u001b[1;33m:\u001b[0m\u001b[1;33m\u001b[0m\u001b[1;33m\u001b[0m\u001b[0m\n\u001b[0;32m      3\u001b[0m         \u001b[0mtup\u001b[0m \u001b[1;33m=\u001b[0m \u001b[1;33m(\u001b[0m\u001b[1;34m\"I\"\u001b[0m\u001b[1;33m,\u001b[0m\u001b[1;33m)\u001b[0m\u001b[1;33m\u001b[0m\u001b[1;33m\u001b[0m\u001b[0m\n\u001b[1;32m----> 4\u001b[1;33m         \u001b[0mtup\u001b[0m\u001b[1;33m.\u001b[0m\u001b[0mappend\u001b[0m\u001b[1;33m(\u001b[0m\u001b[1;34m\"r\"\u001b[0m\u001b[1;33m,\u001b[0m \u001b[1;34m\"o\"\u001b[0m\u001b[1;33m,\u001b[0m \u001b[1;34m\"n\"\u001b[0m\u001b[1;33m,\u001b[0m \u001b[1;34m\"h\"\u001b[0m\u001b[1;33m,\u001b[0m \u001b[1;34m\"a\"\u001b[0m\u001b[1;33m,\u001b[0m \u001b[1;34m\"c\"\u001b[0m\u001b[1;33m,\u001b[0m \u001b[1;34m\"k\"\u001b[0m\u001b[1;33m)\u001b[0m\u001b[1;33m\u001b[0m\u001b[1;33m\u001b[0m\u001b[0m\n\u001b[0m\u001b[0;32m      5\u001b[0m \u001b[0mTuple\u001b[0m\u001b[1;33m.\u001b[0m\u001b[0mcreate_tup\u001b[0m\u001b[1;33m(\u001b[0m\u001b[1;33m)\u001b[0m\u001b[1;33m\u001b[0m\u001b[1;33m\u001b[0m\u001b[0m\n\u001b[0;32m      6\u001b[0m \u001b[1;33m\u001b[0m\u001b[0m\n",
      "\u001b[1;31mAttributeError\u001b[0m: 'tuple' object has no attribute 'append'"
     ]
    }
   ],
   "source": [
    "class Tuple:\n",
    "    def create_tup():\n",
    "        tup = (\"I\",)\n",
    "        tup.append(\"r\", \"o\", \"n\", \"h\", \"a\", \"c\", \"k\")\n",
    "Tuple.create_tup()\n",
    "            \n",
    "# tuples can be added, not appended"
   ]
  },
  {
   "cell_type": "markdown",
   "id": "9e1471d5",
   "metadata": {
    "id": "9e1471d5"
   },
   "source": [
    "#### How about re-assign a new value to an existing tuple?\n",
    "\n",
    "Re-assign the following elements to `tup`. Are you able to do it? Explain.\n",
    "\n",
    "```\n",
    "\"I\", \"r\", \"o\", \"n\", \"h\", \"a\", \"c\", \"k\"\n",
    "```"
   ]
  },
  {
   "cell_type": "code",
   "execution_count": 15,
   "id": "681e0da1",
   "metadata": {
    "id": "681e0da1"
   },
   "outputs": [
    {
     "name": "stdout",
     "output_type": "stream",
     "text": [
      "('I', 'r', 'o', 'n', 'h', 'a', 'c', 'k')\n"
     ]
    }
   ],
   "source": [
    "class Tuple:\n",
    "    def create_tup():\n",
    "        list = [\"r\", \"o\", \"n\", \"h\", \"a\", \"c\", \"k\"]\n",
    "        list.insert (0, \"I\")\n",
    "        tup = (tuple(list))\n",
    "        print(tup)\n",
    "        \n",
    "Tuple.create_tup()\n",
    "\n",
    "# I use insert to add \"I\" to the list and then make a tuple of  it"
   ]
  },
  {
   "cell_type": "markdown",
   "id": "b5c6ffc2",
   "metadata": {
    "id": "b5c6ffc2"
   },
   "source": [
    "#### Split `tup` into `tup1` and `tup2` with 4 elements in each. \n",
    "\n",
    "`tup1` should be `(\"I\", \"r\", \"o\", \"n\")` and `tup2` should be `(\"h\", \"a\", \"c\", \"k\")`.\n",
    "\n",
    "*Hint: use positive index numbers for `tup1` assignment and use negative index numbers for `tup2` assignment. Positive index numbers count from the beginning whereas negative index numbers count from the end of the sequence.*\n",
    "\n",
    "Also print `tup1` and `tup2`"
   ]
  },
  {
   "cell_type": "code",
   "execution_count": 17,
   "id": "f85de4bb",
   "metadata": {
    "id": "f85de4bb"
   },
   "outputs": [
    {
     "name": "stdout",
     "output_type": "stream",
     "text": [
      "('I', 'r', 'o', 'n') ('h', 'a', 'c', 'k')\n"
     ]
    }
   ],
   "source": [
    "class Tuple:\n",
    "    def div_tuple():\n",
    "        tuple =  (\"I\", \"r\", \"o\", \"n\", \"h\", \"a\", \"c\", \"k\") \n",
    "        tup1 = tuple[0:4] ; tup2 = tuple[4:8]\n",
    "        print(tup1 , tup2)\n",
    "\n",
    "Tuple.div_tuple()\n"
   ]
  },
  {
   "cell_type": "markdown",
   "id": "3300ba7d",
   "metadata": {
    "id": "3300ba7d"
   },
   "source": [
    "#### Add `tup1` and `tup2` into `tup3` using the `+` operator.\n",
    "\n",
    "Then print `tup3` and check if `tup3` equals to `tup`."
   ]
  },
  {
   "cell_type": "code",
   "execution_count": 18,
   "id": "0593a086",
   "metadata": {
    "id": "0593a086"
   },
   "outputs": [
    {
     "name": "stdout",
     "output_type": "stream",
     "text": [
      "('I', 'r', 'o', 'n', 'h', 'a', 'c', 'k')\n"
     ]
    }
   ],
   "source": [
    "class Tuple:\n",
    "    def div_tuple():\n",
    "        tuple =  (\"I\", \"r\", \"o\", \"n\", \"h\", \"a\", \"c\", \"k\") \n",
    "        tup1 = tuple[0:4] ; tup2 = tuple[4:8]\n",
    "        tup3 = tup1+tup2\n",
    "        print(tup3)\n",
    "\n",
    "Tuple.div_tuple()"
   ]
  },
  {
   "cell_type": "markdown",
   "id": "bede2c6c",
   "metadata": {
    "id": "bede2c6c"
   },
   "source": [
    "#### Count the number of elements in `tup1` and `tup2`. Then add the two counts together and check if the sum is the same as the number of elements in `tup3`."
   ]
  },
  {
   "cell_type": "code",
   "execution_count": 19,
   "id": "f8dbefd0",
   "metadata": {
    "id": "f8dbefd0"
   },
   "outputs": [
    {
     "name": "stdout",
     "output_type": "stream",
     "text": [
      "The length of tup1 is 4 and the length of tup2 is 4\n",
      "The length of tup3 is 8\n"
     ]
    }
   ],
   "source": [
    "class Tuple:\n",
    "    def div_tuple():\n",
    "        tuple =  (\"I\", \"r\", \"o\", \"n\", \"h\", \"a\", \"c\", \"k\") \n",
    "        tup1 = tuple[0:4] ; tup2 = tuple[4:8]\n",
    "        print(f\"The length of tup1 is {len(tup1)} and the length of tup2 is {len(tup2)}\")\n",
    "        tup3 = tup1+tup2\n",
    "        print(f\"The length of tup3 is {len(tup3)}\")\n",
    "\n",
    "Tuple.div_tuple()"
   ]
  },
  {
   "cell_type": "markdown",
   "id": "40c370c7",
   "metadata": {
    "id": "40c370c7"
   },
   "source": [
    "#### What is the index number of `\"h\"` in `tup3`?"
   ]
  },
  {
   "cell_type": "code",
   "execution_count": 25,
   "id": "a33f0a92",
   "metadata": {
    "id": "a33f0a92"
   },
   "outputs": [
    {
     "name": "stdout",
     "output_type": "stream",
     "text": [
      "The index os h is 4\n"
     ]
    }
   ],
   "source": [
    "class Tuple:\n",
    "    def div_tuple():\n",
    "        tuple =  (\"I\", \"r\", \"o\", \"n\", \"h\", \"a\", \"c\", \"k\") \n",
    "        tup1 = tuple[0:4] ; tup2 = tuple[4:8]\n",
    "        tup3 = tup1+tup2 ; tup3 = list(tup3)\n",
    "        index = tup3.index(\"h\")\n",
    "        print(f\"The index os h is {index}\")\n",
    "\n",
    "Tuple.div_tuple()"
   ]
  },
  {
   "cell_type": "markdown",
   "id": "97ce77e6",
   "metadata": {
    "id": "97ce77e6"
   },
   "source": [
    "#### Now, use a FOR loop to check whether each letter in the following list is present in `tup3`:\n",
    "\n",
    "```\n",
    "letters = [\"a\", \"b\", \"c\", \"d\", \"e\"]\n",
    "```\n",
    "\n",
    "For each letter you check, print `True` if it is present in `tup3` otherwise print `False`.\n",
    "\n",
    "*Hint: you only need to loop `letters`. You don't need to loop `tup3` because there is a Python operator `in` you can use. See [reference](https://stackoverflow.com/questions/17920147/how-to-check-if-a-tuple-contains-an-element-in-python).*"
   ]
  },
  {
   "cell_type": "code",
   "execution_count": 31,
   "id": "f279179d",
   "metadata": {
    "id": "f279179d"
   },
   "outputs": [
    {
     "name": "stdout",
     "output_type": "stream",
     "text": [
      "a True\n",
      "b False\n",
      "c True\n",
      "d False\n",
      "e False\n"
     ]
    }
   ],
   "source": [
    "class Tuples:\n",
    "    def check():\n",
    "        tup3 =  (\"I\", \"r\", \"o\", \"n\", \"h\", \"a\", \"c\", \"k\") ; letters = [\"a\", \"b\", \"c\", \"d\", \"e\"]\n",
    "        for i in letters:\n",
    "            if i in tup3:\n",
    "                print(i, True)\n",
    "            else:\n",
    "                print(i, False)\n",
    "Tuples.check()\n"
   ]
  },
  {
   "cell_type": "markdown",
   "id": "7933b84a",
   "metadata": {
    "id": "7933b84a"
   },
   "source": [
    "#### How many times does each letter in `letters` appear in `tup3`?\n",
    "\n",
    "Print out the number of occurrence of each letter."
   ]
  },
  {
   "cell_type": "code",
   "execution_count": 32,
   "id": "20c41d5b",
   "metadata": {
    "id": "20c41d5b"
   },
   "outputs": [
    {
     "name": "stdout",
     "output_type": "stream",
     "text": [
      "1\n",
      "0\n",
      "1\n",
      "0\n",
      "0\n"
     ]
    }
   ],
   "source": [
    "class Tuples:\n",
    "    def counting():\n",
    "        tup3 =  (\"I\", \"r\", \"o\", \"n\", \"h\", \"a\", \"c\", \"k\") ; letters = [\"a\", \"b\", \"c\", \"d\", \"e\"]\n",
    "        for i in range(len(letters)):\n",
    "            print(tup3.count(letters[i]))\n",
    "\n",
    "Tuples.counting()\n"
   ]
  },
  {
   "cell_type": "markdown",
   "id": "4b18d7cc",
   "metadata": {
    "id": "4b18d7cc"
   },
   "source": [
    "## Section 2: Sets\n",
    "\n",
    "There are a lot to learn about Python Sets and the information presented in the lesson is limited due to its length. To learn Python Sets in depth you are strongly encouraged to review the W3Schools tutorial on [Python Sets Examples and Methods](https://www.w3schools.com/python/python_sets.asp) before you work on this lab. Some difficult questions in this lab have their solutions in the W3Schools tutorial.\n",
    "\n",
    "#### First, import the Python `random` library."
   ]
  },
  {
   "cell_type": "code",
   "execution_count": null,
   "id": "ebf421d3",
   "metadata": {
    "id": "ebf421d3"
   },
   "outputs": [],
   "source": [
    "import random"
   ]
  },
  {
   "cell_type": "markdown",
   "id": "d15fb4cf",
   "metadata": {
    "id": "d15fb4cf"
   },
   "source": [
    "#### In the cell below, create a list named `sample_list_1` with 80 random values. \n",
    "\n",
    "Requirements:\n",
    "\n",
    "* Each value is an integer falling between 0 and 100.\n",
    "* Each value in the list is unique.\n",
    "\n",
    "Print `sample_list_1` to review its values\n",
    "\n",
    "*Hint: use `random.sample` ([reference](https://docs.python.org/3/library/random.html#random.sample)).*"
   ]
  },
  {
   "cell_type": "code",
   "execution_count": 34,
   "id": "0e03014c",
   "metadata": {
    "id": "0e03014c"
   },
   "outputs": [
    {
     "name": "stdout",
     "output_type": "stream",
     "text": [
      "[0, 1, 2, 3, 4, 5, 6, 7, 9, 10, 11, 12, 14, 15, 16, 17, 18, 19, 20, 21, 22, 24, 25, 26, 27, 29, 30, 31, 33, 34, 35, 36, 37, 39, 40, 42, 43, 44, 45, 47, 48, 49, 52, 53, 55, 56, 57, 58, 59, 60, 61, 62, 63, 64, 66, 67, 68, 70, 71, 72, 73, 75, 77, 78, 79, 80, 81, 83, 84, 85, 86, 87, 88, 90, 93, 94, 95, 97, 98, 99]\n"
     ]
    }
   ],
   "source": [
    "import random\n",
    "class Random_list:\n",
    "    def create_list():\n",
    "        sample_list_1 = random.sample(range(0, 100), 80)\n",
    "        print(sorted(sample_list_1))\n",
    "\n",
    "Random_list.create_list()"
   ]
  },
  {
   "cell_type": "markdown",
   "id": "5ce4d8d6",
   "metadata": {
    "id": "5ce4d8d6"
   },
   "source": [
    "#### Convert `sample_list_1` to a set called `set1`. Print the length of the set. Is its length still 80?"
   ]
  },
  {
   "cell_type": "code",
   "execution_count": 37,
   "id": "5646584e",
   "metadata": {
    "id": "5646584e"
   },
   "outputs": [
    {
     "name": "stdout",
     "output_type": "stream",
     "text": [
      "The length of the set is 80 like the sample list 1\n"
     ]
    }
   ],
   "source": [
    "class Set:\n",
    "    def convert_set():\n",
    "        sample_list_1 = random.sample(range(0, 100), 80)\n",
    "        set1 = set(sample_list_1)\n",
    "        print(f\"The length of the set is {len(set1)} like the sample list 1\")\n",
    "\n",
    "\n",
    "Set.convert_set()"
   ]
  },
  {
   "cell_type": "markdown",
   "id": "56079018",
   "metadata": {
    "id": "56079018"
   },
   "source": [
    "#### Create another list named `sample_list_2` with 80 random values.\n",
    "\n",
    "Requirements:\n",
    "\n",
    "* Define the initial `sample_list_2` as empty\n",
    "* Add values using the `append()` [method](https://www.w3schools.com/python/ref_list_append.asp)\n",
    "* Each value must be an integer falling between 0 and 100.\n",
    "* The values in the list don't have to be unique.\n",
    "\n",
    "*Hint: Use a FOR loop and the `randrange()` [function](https://www.w3schools.com/python/ref_random_randrange.asp).*"
   ]
  },
  {
   "cell_type": "code",
   "execution_count": 10,
   "id": "0b7034e4",
   "metadata": {
    "id": "0b7034e4"
   },
   "outputs": [
    {
     "name": "stdout",
     "output_type": "stream",
     "text": [
      "[18, 78, 59, 44, 19, 99, 6, 3, 88, 23, 54, 51, 64, 26, 9, 61, 32, 77, 62, 5, 45, 89, 50, 48, 68, 66, 3, 26, 82, 88, 14, 34, 27, 41, 55, 27, 88, 73, 7, 75, 88, 71, 35, 15, 91, 26, 10, 55, 16, 26, 92, 94, 16, 18, 17, 63, 49, 76, 65, 77, 84, 20, 90, 36, 74, 69, 24, 85, 1, 75, 14, 59, 90, 40, 40, 18, 9, 65, 94, 28]\n"
     ]
    }
   ],
   "source": [
    "import random\n",
    "class List:\n",
    "    def create_list():\n",
    "        sample_list_2 = []\n",
    "        for i in range (80):\n",
    "            num = random.randrange(0, 100)\n",
    "            sample_list_2.append(num)\n",
    "        print(sample_list_2)\n",
    "\n",
    "List.create_list()"
   ]
  },
  {
   "cell_type": "markdown",
   "id": "bd4f122b",
   "metadata": {
    "id": "bd4f122b"
   },
   "source": [
    "#### Convert `sample_list_2` to a set called `set2`. Print the length of the set. Is its length still 80?"
   ]
  },
  {
   "cell_type": "code",
   "execution_count": 13,
   "id": "c3614722",
   "metadata": {
    "id": "c3614722"
   },
   "outputs": [
    {
     "name": "stdout",
     "output_type": "stream",
     "text": [
      "The length of the set is 55, not 80\n"
     ]
    }
   ],
   "source": [
    "import random\n",
    "class List:\n",
    "    def create_list():\n",
    "        sample_list_2 = []\n",
    "        for i in range (80):\n",
    "            num = random.randrange(0, 100)\n",
    "            sample_list_2.append(num)\n",
    "        set2 = set(sample_list_2)\n",
    "        print(f\"The length of the set is {len(set2)}, not 80\")\n",
    "\n",
    "List.create_list()"
   ]
  },
  {
   "cell_type": "markdown",
   "id": "5c113bf6",
   "metadata": {
    "id": "5c113bf6"
   },
   "source": [
    "#### Identify the elements present in `set1` but not in `set2`. Assign the elements to a new set named `set3`."
   ]
  },
  {
   "cell_type": "code",
   "execution_count": 3,
   "id": "36771e67",
   "metadata": {
    "id": "36771e67"
   },
   "outputs": [
    {
     "name": "stdout",
     "output_type": "stream",
     "text": [
      "The common elements are {3, 4, 6, 8, 9, 10, 12, 13, 14, 16, 17, 18, 20, 21, 22, 27, 30, 31, 32, 34, 35, 36, 39, 41, 42, 43, 44, 45, 46, 47, 49, 50, 51, 54, 55, 56, 63, 66, 67, 69, 70, 72, 73, 74, 75, 77, 78, 79, 80, 81, 82, 84, 85, 86, 87, 88, 89, 90, 93, 95, 97, 98, 99}\n"
     ]
    }
   ],
   "source": [
    "import random\n",
    "class List:\n",
    "    def common_elements():\n",
    "        sample_list_1 = random.sample(range(0, 100), 80)\n",
    "        set1 = set(sample_list_1)\n",
    "        sample_list_2 = random.sample(range(0, 100), 80)\n",
    "        set2 = set(sample_list_2)\n",
    "        common_elements = set1.intersection(set2)\n",
    "        set3 = common_elements\n",
    "        print(f\"The common elements are {set3}\")\n",
    "\n",
    "\n",
    "\n",
    "List.common_elements()"
   ]
  },
  {
   "cell_type": "markdown",
   "id": "ce6d7d87",
   "metadata": {
    "id": "ce6d7d87"
   },
   "source": [
    "#### Identify the elements present in `set2` but not in `set1`. Assign the elements to a new set named `set4`."
   ]
  },
  {
   "cell_type": "code",
   "execution_count": 4,
   "id": "0549b8f7",
   "metadata": {
    "id": "0549b8f7"
   },
   "outputs": [
    {
     "name": "stdout",
     "output_type": "stream",
     "text": [
      "Elements present in set2 but not in set1: {97, 3, 36, 99, 41, 11, 12, 43, 46, 78, 51, 20, 53, 86, 87, 90, 31}\n"
     ]
    }
   ],
   "source": [
    "import random\n",
    "class List:\n",
    "    def set():\n",
    "        sample_list_1 = random.sample(range(0, 100), 80)\n",
    "        set1 = set(sample_list_1)\n",
    "        sample_list_2 = random.sample(range(0, 100), 80)\n",
    "        set2 = set(sample_list_2)\n",
    "        set4 = set2 - set1\n",
    "        print(f\"Elements present in set2 but not in set1: {set4}\")\n",
    "\n",
    "\n",
    "\n",
    "List.set()"
   ]
  },
  {
   "cell_type": "markdown",
   "id": "f340e36e",
   "metadata": {
    "id": "f340e36e"
   },
   "source": [
    "#### Now Identify the elements shared between `set1` and `set2`. Assign the elements to a new set named `set5`."
   ]
  },
  {
   "cell_type": "code",
   "execution_count": 5,
   "id": "0fa44ad4",
   "metadata": {
    "id": "0fa44ad4"
   },
   "outputs": [
    {
     "name": "stdout",
     "output_type": "stream",
     "text": [
      "The common elements between the two sets are: {3, 6, 10, 12, 14, 16, 18, 19, 21, 23, 24, 25, 28, 29, 30, 32, 33, 36, 37, 38, 39, 40, 41, 42, 43, 47, 48, 49, 50, 51, 52, 55, 56, 58, 59, 60, 61, 64, 65, 66, 68, 69, 70, 71, 72, 74, 75, 76, 77, 79, 80, 81, 82, 84, 87, 88, 89, 90, 91, 92, 93, 94, 96, 98, 99}\n"
     ]
    }
   ],
   "source": [
    "import random\n",
    "class List:\n",
    "    def common_elements():\n",
    "        sample_list_1 = random.sample(range(0, 100), 80)\n",
    "        set1 = set(sample_list_1)\n",
    "        sample_list_2 = random.sample(range(0, 100), 80)\n",
    "        set2 = set(sample_list_2)\n",
    "        set5 = set1.intersection(set2)\n",
    "        print(f\"The common elements between the two sets are: {set5}\")\n",
    "\n",
    "\n",
    "List.common_elements()"
   ]
  },
  {
   "cell_type": "markdown",
   "id": "4aa84105",
   "metadata": {
    "id": "4aa84105"
   },
   "source": [
    "#### What is the relationship among the following values:\n",
    "\n",
    "* len(set1)\n",
    "* len(set2)\n",
    "* len(set3)\n",
    "* len(set4)\n",
    "* len(set5)\n",
    "\n",
    "Think about the set operations that you used to create the sets and how the lengths of the sets are related to each other given those operations."
   ]
  },
  {
   "cell_type": "code",
   "execution_count": 6,
   "id": "2e1c7acc",
   "metadata": {
    "id": "2e1c7acc"
   },
   "outputs": [
    {
     "name": "stdout",
     "output_type": "stream",
     "text": [
      "The lenght of the set1 is 80 and the lenght of set2 is 80 and the lenght of set3s is 67 and the lenght of set4 is 13 and the lenght of set5 is 67\n"
     ]
    }
   ],
   "source": [
    "import random\n",
    "class List:\n",
    "    def sets():\n",
    "        sample_list_1 = random.sample(range(0, 100), 80)\n",
    "        set1 = set(sample_list_1)\n",
    "        sample_list_2 = random.sample(range(0, 100), 80)\n",
    "        set2 = set(sample_list_2)\n",
    "        common_elements = set1.intersection(set2)\n",
    "        set3 = common_elements\n",
    "        set4 = set2 - set1\n",
    "        set5 = set1.intersection(set2)\n",
    "        print(f\"The lenght of the set1 is {len(set1)} and the lenght of set2 is {len(set2)} and the lenght of set3s is {len(set3)} and the lenght of set4 is {len(set4)} and the lenght of set5 is {len(set5)}\")\n",
    "\n",
    "\n",
    "List.sets()"
   ]
  },
  {
   "cell_type": "markdown",
   "id": "8782ed0d",
   "metadata": {
    "id": "8782ed0d"
   },
   "source": [
    "#### Create an empty set called `set6`."
   ]
  },
  {
   "cell_type": "code",
   "execution_count": 7,
   "id": "150b93fa",
   "metadata": {
    "id": "150b93fa"
   },
   "outputs": [
    {
     "name": "stdout",
     "output_type": "stream",
     "text": [
      "The set is: set()\n"
     ]
    }
   ],
   "source": [
    "class List:\n",
    "    def sets():\n",
    "        set6 = set()\n",
    "        print(f\"The set is: {set6}\")\n",
    "\n",
    "List.sets()"
   ]
  },
  {
   "cell_type": "markdown",
   "id": "4ab43ebf",
   "metadata": {
    "id": "4ab43ebf"
   },
   "source": [
    "#### Add `set3` and `set5` to `set6` using the Python Set `update` [method](https://www.w3schools.com/python/ref_set_update.asp)."
   ]
  },
  {
   "cell_type": "code",
   "execution_count": 8,
   "id": "8eb2e11d",
   "metadata": {
    "id": "8eb2e11d"
   },
   "outputs": [
    {
     "name": "stdout",
     "output_type": "stream",
     "text": [
      "The set6 is: {0, 3, 6, 7, 8, 9, 11, 12, 13, 14, 15, 16, 17, 18, 19, 20, 21, 22, 24, 25, 26, 28, 30, 31, 32, 38, 42, 43, 44, 45, 46, 48, 49, 50, 53, 54, 58, 59, 61, 64, 66, 68, 69, 70, 71, 72, 74, 77, 78, 80, 81, 82, 84, 85, 86, 88, 89, 90, 91, 92, 93, 94, 96, 97, 98}\n"
     ]
    }
   ],
   "source": [
    "import random\n",
    "class List:\n",
    "    def sets():\n",
    "        sample_list_1 = random.sample(range(0, 100), 80)\n",
    "        set1 = set(sample_list_1)\n",
    "        sample_list_2 = random.sample(range(0, 100), 80)\n",
    "        set2 = set(sample_list_2)\n",
    "        common_elements = set1.intersection(set2)\n",
    "        set3 = common_elements\n",
    "        set4 = set2 - set1\n",
    "        set5 = set1.intersection(set2)\n",
    "        set6 = set()\n",
    "        set6.update(set3)\n",
    "        set6.update(set5)\n",
    "        print(f\"The set6 is: {set6}\")\n",
    "List.sets()"
   ]
  },
  {
   "cell_type": "markdown",
   "id": "160b3a58",
   "metadata": {
    "id": "160b3a58"
   },
   "source": [
    "#### Check if `set1` and `set6` are equal."
   ]
  },
  {
   "cell_type": "code",
   "execution_count": 9,
   "id": "50c9008e",
   "metadata": {
    "id": "50c9008e"
   },
   "outputs": [
    {
     "name": "stdout",
     "output_type": "stream",
     "text": [
      "The set1 and set6 are not equal\n"
     ]
    }
   ],
   "source": [
    "import random\n",
    "class List:\n",
    "    def sets():\n",
    "        sample_list_1 = random.sample(range(0, 100), 80)\n",
    "        set1 = set(sample_list_1)\n",
    "        sample_list_2 = random.sample(range(0, 100), 80)\n",
    "        set2 = set(sample_list_2)\n",
    "        common_elements = set1.intersection(set2)\n",
    "        set3 = common_elements\n",
    "        set4 = set2 - set1\n",
    "        set5 = set1.intersection(set2)\n",
    "        set6 = set()\n",
    "        set6.update(set3)\n",
    "        set6.update(set5)\n",
    "        if set1 == set6:\n",
    "            print(\"The set1 and set6 are equal\")\n",
    "        else:\n",
    "            print(\"The set1 and set6 are not equal\")\n",
    "List.sets()"
   ]
  },
  {
   "cell_type": "markdown",
   "id": "6b8b52e2",
   "metadata": {
    "id": "6b8b52e2"
   },
   "source": [
    "#### Check if `set1` contains `set2` using the Python Set `issubset` [method](https://www.w3schools.com/python/ref_set_issubset.asp). Then check if `set1` contains `set3`."
   ]
  },
  {
   "cell_type": "code",
   "execution_count": 10,
   "id": "83e2461a",
   "metadata": {
    "id": "83e2461a"
   },
   "outputs": [
    {
     "name": "stdout",
     "output_type": "stream",
     "text": [
      "Set1 is not a subset of Set2 or Set3\n"
     ]
    }
   ],
   "source": [
    "import random\n",
    "class List:\n",
    "    def sets():\n",
    "        sample_list_1 = random.sample(range(0, 100), 80)\n",
    "        set1 = set(sample_list_1)\n",
    "        sample_list_2 = random.sample(range(0, 100), 80)\n",
    "        set2 = set(sample_list_2)\n",
    "        common_elements = set1.intersection(set2)\n",
    "        set3 = common_elements\n",
    "        set4 = set2 - set1\n",
    "        set5 = set1.intersection(set2)\n",
    "        set6 = set()\n",
    "        set6.update(set3)\n",
    "        set6.update(set5)\n",
    "        if set1.issubset(set2):\n",
    "            print(\"Set1 is a subset of Set2\")\n",
    "        if set1.issubset(set3):\n",
    "            print(\"Set1 is a subset of Set3\")\n",
    "        else:\n",
    "            print(\"Set1 is not a subset of Set2 or Set3\")\n",
    "\n",
    "\n",
    "List.sets()"
   ]
  },
  {
   "cell_type": "markdown",
   "id": "7afaf06b",
   "metadata": {
    "id": "7afaf06b"
   },
   "source": [
    "#### Using the Python Set `union` method, aggregate `set3`, `set4`, and `set5`. Then aggregate `set1` and `set2`. \n",
    "\n",
    "#### Check if the aggregated values are equal."
   ]
  },
  {
   "cell_type": "code",
   "execution_count": 11,
   "id": "4056d56a",
   "metadata": {
    "id": "4056d56a"
   },
   "outputs": [
    {
     "name": "stdout",
     "output_type": "stream",
     "text": [
      "Set total 1 is not equal to set total 2\n"
     ]
    }
   ],
   "source": [
    "import random\n",
    "class List:\n",
    "    def sets():\n",
    "        sample_list_1 = random.sample(range(0, 100), 80)\n",
    "        set1 = set(sample_list_1)\n",
    "        sample_list_2 = random.sample(range(0, 100), 80)\n",
    "        set2 = set(sample_list_2)\n",
    "        common_elements = set1.intersection(set2)\n",
    "        set3 = common_elements\n",
    "        set4 = set2 - set1\n",
    "        set5 = set1.intersection(set2)\n",
    "        set6 = set()\n",
    "        set_total = set3.union(set4).union(set5)\n",
    "        set_total2 = set1.union(set2)\n",
    "        if set_total == set_total2:\n",
    "            print(f\"Set total 1 is equal to set total 2\")\n",
    "        else:\n",
    "            print(f\"Set total 1 is not equal to set total 2\")\n",
    "\n",
    "\n",
    "List.sets()"
   ]
  },
  {
   "cell_type": "markdown",
   "id": "c58f2a3c",
   "metadata": {
    "id": "c58f2a3c"
   },
   "source": [
    "#### Using the `pop` method, remove the first element from `set1`."
   ]
  },
  {
   "cell_type": "code",
   "execution_count": 14,
   "id": "80cc9fb6",
   "metadata": {
    "id": "80cc9fb6"
   },
   "outputs": [
    {
     "name": "stdout",
     "output_type": "stream",
     "text": [
      "\n",
      "The set1 is: {2, 3, 5, 6, 7, 9, 10, 11, 12, 13, 14, 15, 16, 17, 18, 19, 20, 21, 22, 24, 25, 26, 28, 29, 32, 33, 37, 38, 39, 40, 41, 42, 43, 44, 45, 46, 47, 48, 50, 51, 53, 54, 55, 56, 57, 58, 59, 60, 61, 62, 63, 64, 65, 66, 67, 68, 70, 72, 75, 77, 78, 79, 80, 81, 82, 83, 84, 85, 86, 87, 88, 89, 90, 92, 93, 95, 96, 97, 98, 99}\n",
      "\n",
      "The set1 now is: {3, 5, 6, 7, 9, 10, 11, 12, 13, 14, 15, 16, 17, 18, 19, 20, 21, 22, 24, 25, 26, 28, 29, 32, 33, 37, 38, 39, 40, 41, 42, 43, 44, 45, 46, 47, 48, 50, 51, 53, 54, 55, 56, 57, 58, 59, 60, 61, 62, 63, 64, 65, 66, 67, 68, 70, 72, 75, 77, 78, 79, 80, 81, 82, 83, 84, 85, 86, 87, 88, 89, 90, 92, 93, 95, 96, 97, 98, 99}\n"
     ]
    }
   ],
   "source": [
    "import random\n",
    "class List:\n",
    "    def sets():\n",
    "        sample_list_1 = random.sample(range(0, 100), 80)\n",
    "        set1 = set(sample_list_1)\n",
    "        print(f\"\\nThe set1 is: {set1}\")\n",
    "        set1.pop()\n",
    "        print(f\"\\nThe set1 now is: {set1}\")\n",
    "\n",
    "\n",
    "List.sets()"
   ]
  },
  {
   "cell_type": "markdown",
   "id": "a470fc60",
   "metadata": {
    "id": "a470fc60"
   },
   "source": [
    "#### Remove every element in the following list from `set1` if they are present in the set. Print the remaining elements.\n",
    "\n",
    "```\n",
    "list_to_remove = [1, 9, 11, 19, 21, 29, 31, 39, 41, 49, 51, 59, 61, 69, 71, 79, 81, 89, 91, 99]\n",
    "```"
   ]
  },
  {
   "cell_type": "code",
   "execution_count": 16,
   "id": "caeb3499",
   "metadata": {
    "id": "caeb3499"
   },
   "outputs": [
    {
     "name": "stdout",
     "output_type": "stream",
     "text": [
      "Remaining elements in set1: {0, 2, 3, 4, 5, 7, 8, 10, 13, 14, 15, 16, 17, 18, 20, 22, 23, 24, 25, 26, 27, 28, 30, 32, 34, 35, 36, 38, 42, 43, 45, 46, 47, 48, 50, 53, 54, 55, 56, 57, 58, 60, 62, 64, 67, 68, 70, 72, 73, 74, 77, 78, 80, 82, 84, 85, 86, 87, 88, 92, 94, 97, 98}\n"
     ]
    }
   ],
   "source": [
    "import random\n",
    "class List:\n",
    "    def sets():\n",
    "        sample_list_1 = random.sample(range(0, 100), 80)\n",
    "        set1 = set(sample_list_1)\n",
    "        list_to_remove = [1, 9, 11, 19, 21, 29, 31, 39, 41, 49, 51, 59, 61, 69, 71, 79, 81, 89, 91, 99]\n",
    "        for i in list_to_remove:\n",
    "            if i in set1:\n",
    "                set1.remove(i)\n",
    "        print(f\"Remaining elements in set1: {set1}\")\n",
    "\n",
    "List.sets()"
   ]
  },
  {
   "cell_type": "markdown",
   "id": "852b0ed8",
   "metadata": {
    "id": "852b0ed8"
   },
   "source": [
    "## Section 3: Dictionaries\n",
    "\n",
    "In this challenge you will practice how to manipulate Python dictionaries. Before starting on this challenge, you are encouraged to review W3School's [Python Dictionary Examples and Methods](https://www.w3schools.com/python/python_dictionaries.asp)."
   ]
  },
  {
   "cell_type": "markdown",
   "id": "0209636c",
   "metadata": {
    "id": "0209636c"
   },
   "source": [
    "**Create a dictionary called `dict1` with the following key:value pairs representing a name and relative height:**  \n",
    "Penelope: 178  \n",
    "Arnau: 172  \n",
    "Marta: 175"
   ]
  },
  {
   "cell_type": "code",
   "execution_count": 18,
   "id": "cda20e41",
   "metadata": {
    "id": "cda20e41"
   },
   "outputs": [
    {
     "name": "stdout",
     "output_type": "stream",
     "text": [
      "The dictionary is: {'Penelope': 178, 'Arnau': 172, 'Marta': 175}\n"
     ]
    }
   ],
   "source": [
    "class Dict:\n",
    "    def dictionary():\n",
    "        dict1 = {\"Penelope\": 178, \"Arnau\": 172, \"Marta\": 175}\n",
    "        print(f\"The dictionary is: {dict1}\")\n",
    "\n",
    "\n",
    "Dict.dictionary()"
   ]
  },
  {
   "cell_type": "markdown",
   "id": "963f8b6f",
   "metadata": {
    "id": "963f8b6f"
   },
   "source": [
    "You can access the elements of a dictionary by using 3 methods: `keys()`, `values()` and `items()`. \n",
    "\n",
    "As the names suggest the first method only returns the keys, the second only the values and the third both of them in pairs. \n",
    "\n",
    "**Use the three methods on `dict1` to look at the different results.**"
   ]
  },
  {
   "cell_type": "code",
   "execution_count": 19,
   "id": "17f00a6b",
   "metadata": {
    "id": "17f00a6b"
   },
   "outputs": [
    {
     "name": "stdout",
     "output_type": "stream",
     "text": [
      "The keys are dict_keys(['Penelope', 'Arnau', 'Marta']), the values are dict_values([178, 172, 175]), the items are dict_items([('Penelope', 178), ('Arnau', 172), ('Marta', 175)])\n"
     ]
    }
   ],
   "source": [
    "class Dict:\n",
    "    def dictionary():\n",
    "        dict1 = {\"Penelope\": 178, \"Arnau\": 172, \"Marta\": 175}\n",
    "        print(f\"The keys are {dict1.keys()}, the values are {dict1.values()}, the items are {dict1.items()}\")\n",
    "\n",
    "\n",
    "Dict.dictionary()"
   ]
  },
  {
   "cell_type": "markdown",
   "id": "3a3496db",
   "metadata": {
    "id": "3a3496db"
   },
   "source": [
    "You can add a key-value pair to a dictionary by using the syntax `name_of_dict[key_name] = value`. If the key already exists, the corresponding value will be replaced. If not, a new key-value pair will be created in the dictionary.\n",
    "\n",
    "**Use this syntax to add a new name:height pair to `dict1` and then print the whole dictionary.**"
   ]
  },
  {
   "cell_type": "code",
   "execution_count": 20,
   "id": "a2b2fae8",
   "metadata": {
    "id": "a2b2fae8"
   },
   "outputs": [
    {
     "name": "stdout",
     "output_type": "stream",
     "text": [
      "The new dictionary is: {'Penelope': 178, 'Arnau': 172, 'Marta': 175, 'Diego': 180}\n"
     ]
    }
   ],
   "source": [
    "class Dict:\n",
    "    def dictionary():\n",
    "        dict1 = {\"Penelope\": 178, \"Arnau\": 172, \"Marta\": 175}\n",
    "        dict1[\"Diego\"] = 180\n",
    "        print(f\"The new dictionary is: {dict1}\")\n",
    "\n",
    "Dict.dictionary()"
   ]
  },
  {
   "cell_type": "markdown",
   "id": "fc92a7e5",
   "metadata": {
    "id": "fc92a7e5"
   },
   "source": [
    "You can also delete a key from a dictionary using the syntax `del name_of_dict[key_name]`. \n",
    "\n",
    "**Try using it to delete the key you just added and then print the dictionary again to see the results.**"
   ]
  },
  {
   "cell_type": "code",
   "execution_count": 22,
   "id": "39e3f283",
   "metadata": {
    "id": "39e3f283"
   },
   "outputs": [
    {
     "name": "stdout",
     "output_type": "stream",
     "text": [
      "The dictionary is: {'Penelope': 178, 'Arnau': 172, 'Marta': 175, 'Diego': 180}\n",
      "The new dictionary is: {'Penelope': 178, 'Arnau': 172, 'Marta': 175}\n"
     ]
    }
   ],
   "source": [
    "class Dict:\n",
    "    def dictionary():\n",
    "        dict1 = {\"Penelope\": 178, \"Arnau\": 172, \"Marta\": 175}\n",
    "        dict1[\"Diego\"] = 180\n",
    "        print(f\"The dictionary is: {dict1}\")\n",
    "        del dict1[\"Diego\"]\n",
    "        print(f\"The new dictionary is: {dict1}\")\n",
    "\n",
    "Dict.dictionary()"
   ]
  },
  {
   "cell_type": "markdown",
   "id": "82d10df4",
   "metadata": {
    "id": "82d10df4"
   },
   "source": [
    "Now you will practice is how to sort the keys in a dictionary. Unlike the list object, Python dictionary does not have a built-in *sort* method. You'll need to use FOR loops to to sort dictionaries either by key or by value.\n",
    "\n",
    "The dictionary below is a summary of the word frequency of Ed Sheeran's song *Shape of You*. Each key is a word in the lyrics and the value is the number of times that word appears in the lyrics."
   ]
  },
  {
   "cell_type": "code",
   "execution_count": 6,
   "id": "94625087",
   "metadata": {
    "id": "94625087"
   },
   "outputs": [],
   "source": [
    "word_freq = {'love': 25, 'conversation': 1, 'every': 6, \"we're\": 1, 'plate': 1, 'sour': 1, 'jukebox': 1, 'now': 11, 'taxi': 1, 'fast': 1, 'bag': 1, 'man': 1, 'push': 3, 'baby': 14, 'going': 1, 'you': 16, \"don't\": 2, 'one': 1, 'mind': 2, 'backseat': 1, 'friends': 1, 'then': 3, 'know': 2, 'take': 1, 'play': 1, 'okay': 1, 'so': 2, 'begin': 1, 'start': 2, 'over': 1, 'body': 17, 'boy': 2, 'just': 1, 'we': 7, 'are': 1, 'girl': 2, 'tell': 1, 'singing': 2, 'drinking': 1, 'put': 3, 'our': 1, 'where': 1, \"i'll\": 1, 'all': 1, \"isn't\": 1, 'make': 1, 'lover': 1, 'get': 1, 'radio': 1, 'give': 1, \"i'm\": 23, 'like': 10, 'can': 1, 'doing': 2, 'with': 22, 'club': 1, 'come': 37, 'it': 1, 'somebody': 2, 'handmade': 2, 'out': 1, 'new': 6, 'room': 3, 'chance': 1, 'follow': 6, 'in': 27, 'may': 2, 'brand': 6, 'that': 2, 'magnet': 3, 'up': 3, 'first': 1, 'and': 23, 'pull': 3, 'of': 6, 'table': 1, 'much': 2, 'last': 3, 'i': 6, 'thrifty': 1, 'grab': 2, 'was': 2, 'driver': 1, 'slow': 1, 'dance': 1, 'the': 18, 'say': 2, 'trust': 1, 'family': 1, 'week': 1, 'date': 1, 'me': 10, 'do': 3, 'waist': 2, 'smell': 3, 'day': 6, 'although': 3, 'your': 21, 'leave': 1, 'want': 2, \"let's\": 2, 'lead': 6, 'at': 1, 'hand': 1, 'how': 1, 'talk': 4, 'not': 2, 'eat': 1, 'falling': 3, 'about': 1, 'story': 1, 'sweet': 1, 'best': 1, 'crazy': 2, 'let': 1, 'too': 5, 'van': 1, 'shots': 1, 'go': 2, 'to': 2, 'a': 8, 'my': 33, 'is': 5, 'place': 1, 'find': 1, 'shape': 6, 'on': 40, 'kiss': 1, 'were': 3, 'night': 3, 'heart': 3, 'for': 3, 'discovering': 6, 'something': 6, 'be': 16, 'bedsheets': 3, 'fill': 2, 'hours': 2, 'stop': 1, 'bar': 1}"
   ]
  },
  {
   "cell_type": "markdown",
   "id": "1f155e2f",
   "metadata": {
    "id": "1f155e2f"
   },
   "source": [
    "#### Sort the keys of `word_freq` ascendingly.\n",
    "\n",
    "Please create a new dictionary called `word_freq2` based on `word_freq` with the keys sorted ascedingly.\n",
    "\n",
    "There are several ways to achieve that goal but many of the ways are beyond what we have covered so far in the course. There is one way that we'll describe employing what you have learned. Please feel free to use this way or any other way you want.\n",
    "\n",
    "1. First extract the keys of `word_freq` and convert it to a list called `keys`.\n",
    "\n",
    "2. Sort the `keys` list.\n",
    "\n",
    "3. Create an empty dictionary `word_freq2`.\n",
    "\n",
    "4. Use a FOR loop to iterate each value in `keys`. For each key iterated, find the corresponding value in `word_freq` and insert the key-value pair to `word_freq2`.\n",
    "\n",
    "Print out `word_freq2` to examine its keys and values. Your output should be:\n",
    "\n",
    "```python\n",
    "{'a': 8, 'about': 1, 'all': 1, 'although': 3, 'and': 23, 'are': 1, 'at': 1, 'baby': 14, 'backseat': 1, 'bag': 1, 'bar': 1, 'be': 16, 'bedsheets': 3, 'begin': 1, 'best': 1, 'body': 17, 'boy': 2, 'brand': 6, 'can': 1, 'chance': 1, 'club': 1, 'come': 37, 'conversation': 1, 'crazy': 2, 'dance': 1, 'date': 1, 'day': 6, 'discovering': 6, 'do': 3, 'doing': 2, \"don't\": 2, 'drinking': 1, 'driver': 1, 'eat': 1, 'every': 6, 'falling': 3, 'family': 1, 'fast': 1, 'fill': 2, 'find': 1, 'first': 1, 'follow': 6, 'for': 3, 'friends': 1, 'get': 1, 'girl': 2, 'give': 1, 'go': 2, 'going': 1, 'grab': 2, 'hand': 1, 'handmade': 2, 'heart': 3, 'hours': 2, 'how': 1, 'i': 6, \"i'll\": 1, \"i'm\": 23, 'in': 27, 'is': 5, \"isn't\": 1, 'it': 1, 'jukebox': 1, 'just': 1, 'kiss': 1, 'know': 2, 'last': 3, 'lead': 6, 'leave': 1, 'let': 1, \"let's\": 2, 'like': 10, 'love': 25, 'lover': 1, 'magnet': 3, 'make': 1, 'man': 1, 'may': 2, 'me': 10, 'mind': 2, 'much': 2, 'my': 33, 'new': 6, 'night': 3, 'not': 2, 'now': 11, 'of': 6, 'okay': 1, 'on': 40, 'one': 1, 'our': 1, 'out': 1, 'over': 1, 'place': 1, 'plate': 1, 'play': 1, 'pull': 3, 'push': 3, 'put': 3, 'radio': 1, 'room': 3, 'say': 2, 'shape': 6, 'shots': 1, 'singing': 2, 'slow': 1, 'smell': 3, 'so': 2, 'somebody': 2, 'something': 6, 'sour': 1, 'start': 2, 'stop': 1, 'story': 1, 'sweet': 1, 'table': 1, 'take': 1, 'talk': 4, 'taxi': 1, 'tell': 1, 'that': 2, 'the': 18, 'then': 3, 'thrifty': 1, 'to': 2, 'too': 5, 'trust': 1, 'up': 3, 'van': 1, 'waist': 2, 'want': 2, 'was': 2, 'we': 7, \"we're\": 1, 'week': 1, 'were': 3, 'where': 1, 'with': 22, 'you': 16, 'your': 21}\n",
    "```"
   ]
  },
  {
   "cell_type": "code",
   "execution_count": 4,
   "id": "6c2e6763",
   "metadata": {
    "id": "6c2e6763"
   },
   "outputs": [
    {
     "name": "stdout",
     "output_type": "stream",
     "text": [
      "\n",
      "\n",
      "The worl_freq2 is: {'a': 8, 'about': 1, 'all': 1, 'although': 3, 'and': 23, 'are': 1, 'at': 1, 'baby': 14, 'backseat': 1, 'bag': 1, 'bar': 1, 'be': 16, 'bedsheets': 3, 'begin': 1, 'best': 1, 'body': 17, 'boy': 2, 'brand': 6, 'can': 1, 'chance': 1, 'club': 1, 'come': 37, 'conversation': 1, 'crazy': 2, 'dance': 1, 'date': 1, 'day': 6, 'discovering': 6, 'do': 3, 'doing': 2, \"don't\": 2, 'drinking': 1, 'driver': 1, 'eat': 1, 'every': 6, 'falling': 3, 'family': 1, 'fast': 1, 'fill': 2, 'find': 1, 'first': 1, 'follow': 6, 'for': 3, 'friends': 1, 'get': 1, 'girl': 2, 'give': 1, 'go': 2, 'going': 1, 'grab': 2, 'hand': 1, 'handmade': 2, 'heart': 3, 'hours': 2, 'how': 1, 'i': 6, \"i'll\": 1, \"i'm\": 23, 'in': 27, 'is': 5, \"isn't\": 1, 'it': 1, 'jukebox': 1, 'just': 1, 'kiss': 1, 'know': 2, 'last': 3, 'lead': 6, 'leave': 1, 'let': 1, \"let's\": 2, 'like': 10, 'love': 25, 'lover': 1, 'magnet': 3, 'make': 1, 'man': 1, 'may': 2, 'me': 10, 'mind': 2, 'much': 2, 'my': 33, 'new': 6, 'night': 3, 'not': 2, 'now': 11, 'of': 6, 'okay': 1, 'on': 40, 'one': 1, 'our': 1, 'out': 1, 'over': 1, 'place': 1, 'plate': 1, 'play': 1, 'pull': 3, 'push': 3, 'put': 3, 'radio': 1, 'room': 3, 'say': 2, 'shape': 6, 'shots': 1, 'singing': 2, 'slow': 1, 'smell': 3, 'so': 2, 'somebody': 2, 'something': 6, 'sour': 1, 'start': 2, 'stop': 1, 'story': 1, 'sweet': 1, 'table': 1, 'take': 1, 'talk': 4, 'taxi': 1, 'tell': 1, 'that': 2, 'the': 18, 'then': 3, 'thrifty': 1, 'to': 2, 'too': 5, 'trust': 1, 'up': 3, 'van': 1, 'waist': 2, 'want': 2, 'was': 2, 'we': 7, \"we're\": 1, 'week': 1, 'were': 3, 'where': 1, 'with': 22, 'you': 16, 'your': 21}\n"
     ]
    }
   ],
   "source": [
    "class Dict:\n",
    "    def dictionary():\n",
    "        word_freq = {'love': 25, 'conversation': 1, 'every': 6, \"we're\": 1, 'plate': 1, 'sour': 1, 'jukebox': 1, 'now': 11, 'taxi': 1, 'fast': 1, 'bag': 1, 'man': 1, 'push': 3, 'baby': 14, 'going': 1, 'you': 16, \"don't\": 2, 'one': 1, 'mind': 2, 'backseat': 1, 'friends': 1, 'then': 3, 'know': 2, 'take': 1, 'play': 1, 'okay': 1, 'so': 2, 'begin': 1, 'start': 2, 'over': 1, 'body': 17, 'boy': 2, 'just': 1, 'we': 7, 'are': 1, 'girl': 2, 'tell': 1, 'singing': 2, 'drinking': 1, 'put': 3, 'our': 1, 'where': 1, \"i'll\": 1, 'all': 1, \"isn't\": 1, 'make': 1, 'lover': 1, 'get': 1, 'radio': 1, 'give': 1, \"i'm\": 23, 'like': 10, 'can': 1, 'doing': 2, 'with': 22, 'club': 1, 'come': 37, 'it': 1, 'somebody': 2, 'handmade': 2, 'out': 1, 'new': 6, 'room': 3, 'chance': 1, 'follow': 6, 'in': 27, 'may': 2, 'brand': 6, 'that': 2, 'magnet': 3, 'up': 3, 'first': 1, 'and': 23, 'pull': 3, 'of': 6, 'table': 1, 'much': 2, 'last': 3, 'i': 6, 'thrifty': 1, 'grab': 2, 'was': 2, 'driver': 1, 'slow': 1, 'dance': 1, 'the': 18, 'say': 2, 'trust': 1, 'family': 1, 'week': 1, 'date': 1, 'me': 10, 'do': 3, 'waist': 2, 'smell': 3, 'day': 6, 'although': 3, 'your': 21, 'leave': 1, 'want': 2, \"let's\": 2, 'lead': 6, 'at': 1, 'hand': 1, 'how': 1, 'talk': 4, 'not': 2, 'eat': 1, 'falling': 3, 'about': 1, 'story': 1, 'sweet': 1, 'best': 1, 'crazy': 2, 'let': 1, 'too': 5, 'van': 1, 'shots': 1, 'go': 2, 'to': 2, 'a': 8, 'my': 33, 'is': 5, 'place': 1, 'find': 1, 'shape': 6, 'on': 40, 'kiss': 1, 'were': 3, 'night': 3, 'heart': 3, 'for': 3, 'discovering': 6, 'something': 6, 'be': 16, 'bedsheets': 3, 'fill': 2, 'hours': 2, 'stop': 1, 'bar': 1}\n",
    "        word_freq2 = {}\n",
    "        for key in sorted(word_freq, key=word_freq.get, reverse=True):\n",
    "            word_freq2[key] = word_freq[key]\n",
    "        keys = list(word_freq.keys())\n",
    "        keys.sort()\n",
    "        word_freq2 = {}\n",
    "        for key in keys:\n",
    "            word_freq2[key] = word_freq[key]\n",
    "        print(f\"\\n\\nThe worl_freq2 is: {word_freq2}\")\n",
    "\n",
    "\n",
    "Dict.dictionary()"
   ]
  },
  {
   "cell_type": "markdown",
   "id": "a939f207",
   "metadata": {
    "id": "a939f207"
   },
   "source": [
    "#### Sort the values of `word_freq` ascendingly.\n",
    "\n",
    "Sorting the values of a dictionary is more tricky than sorting the keys because a dictionary's values are not unique. Therefore you cannot use the same way you sorted dict keys to sort dict values.\n",
    "\n",
    "The way to sort a dict by value is to utilize the `sorted` and `operator.itemgetter` functions. The following code snippet is provided to you to try. It will give you a list of tuples in which each tuple contains the key and value of a dict item. And the list is sorted based on the dict value ( [reference](http://thomas-cokelaer.info/blog/2017/12/how-to-sort-a-dictionary-by-values-in-python/)\n",
    ").\n",
    "\n",
    "```python\n",
    "import operator\n",
    "sorted_tups = sorted(word_freq.items(), key=operator.itemgetter(1))\n",
    "print(sorted_tups)\n",
    "```\n",
    "\n",
    "Therefore, the steps to sort `word_freq` by value are:\n",
    "\n",
    "1. Using `sorted` and `operator.itemgetter`, obtain a list of tuples of the dict key-value pairs which is sorted on the value.\n",
    "\n",
    "2. Create an empty dictionary named `word_freq2`.\n",
    "\n",
    "3. Iterate the list of tuples. Insert each key-value pair into `word_freq2` as an object.\n",
    "\n",
    "Print `word_freq2` to confirm your dictionary has its values sorted. Your output should be:\n",
    "\n",
    "```python\n",
    "{'conversation': 1, \"we're\": 1, 'plate': 1, 'sour': 1, 'jukebox': 1, 'taxi': 1, 'fast': 1, 'bag': 1, 'man': 1, 'going': 1, 'one': 1, 'backseat': 1, 'friends': 1, 'take': 1, 'play': 1, 'okay': 1, 'begin': 1, 'over': 1, 'just': 1, 'are': 1, 'tell': 1, 'drinking': 1, 'our': 1, 'where': 1, \"i'll\": 1, 'all': 1, \"isn't\": 1, 'make': 1, 'lover': 1, 'get': 1, 'radio': 1, 'give': 1, 'can': 1, 'club': 1, 'it': 1, 'out': 1, 'chance': 1, 'first': 1, 'table': 1, 'thrifty': 1, 'driver': 1, 'slow': 1, 'dance': 1, 'trust': 1, 'family': 1, 'week': 1, 'date': 1, 'leave': 1, 'at': 1, 'hand': 1, 'how': 1, 'eat': 1, 'about': 1, 'story': 1, 'sweet': 1, 'best': 1, 'let': 1, 'van': 1, 'shots': 1, 'place': 1, 'find': 1, 'kiss': 1, 'stop': 1, 'bar': 1, \"don't\": 2, 'mind': 2, 'know': 2, 'so': 2, 'start': 2, 'boy': 2, 'girl': 2, 'singing': 2, 'doing': 2, 'somebody': 2, 'handmade': 2, 'may': 2, 'that': 2, 'much': 2, 'grab': 2, 'was': 2, 'say': 2, 'waist': 2, 'want': 2, \"let's\": 2, 'not': 2, 'crazy': 2, 'go': 2, 'to': 2, 'fill': 2, 'hours': 2, 'push': 3, 'then': 3, 'put': 3, 'room': 3, 'magnet': 3, 'up': 3, 'pull': 3, 'last': 3, 'do': 3, 'smell': 3, 'although': 3, 'falling': 3, 'were': 3, 'night': 3, 'heart': 3, 'for': 3, 'bedsheets': 3, 'talk': 4, 'too': 5, 'is': 5, 'every': 6, 'new': 6, 'follow': 6, 'brand': 6, 'of': 6, 'i': 6, 'day': 6, 'lead': 6, 'shape': 6, 'discovering': 6, 'something': 6, 'we': 7, 'a': 8, 'like': 10, 'me': 10, 'now': 11, 'baby': 14, 'you': 16, 'be': 16, 'body': 17, 'the': 18, 'your': 21, 'with': 22, \"i'm\": 23, 'and': 23, 'love': 25, 'in': 27, 'my': 33, 'come': 37, 'on': 40}\n",
    "```"
   ]
  },
  {
   "cell_type": "code",
   "execution_count": 13,
   "id": "b7165b21",
   "metadata": {
    "id": "b7165b21"
   },
   "outputs": [
    {
     "name": "stdout",
     "output_type": "stream",
     "text": [
      "The final dict is {'conversation': 1, \"we're\": 1, 'plate': 1, 'sour': 1, 'jukebox': 1, 'taxi': 1, 'fast': 1, 'bag': 1, 'man': 1, 'going': 1, 'one': 1, 'backseat': 1, 'friends': 1, 'take': 1, 'play': 1, 'okay': 1, 'begin': 1, 'over': 1, 'just': 1, 'are': 1, 'tell': 1, 'drinking': 1, 'our': 1, 'where': 1, \"i'll\": 1, 'all': 1, \"isn't\": 1, 'make': 1, 'lover': 1, 'get': 1, 'radio': 1, 'give': 1, 'can': 1, 'club': 1, 'it': 1, 'out': 1, 'chance': 1, 'first': 1, 'table': 1, 'thrifty': 1, 'driver': 1, 'slow': 1, 'dance': 1, 'trust': 1, 'family': 1, 'week': 1, 'date': 1, 'leave': 1, 'at': 1, 'hand': 1, 'how': 1, 'eat': 1, 'about': 1, 'story': 1, 'sweet': 1, 'best': 1, 'let': 1, 'van': 1, 'shots': 1, 'place': 1, 'find': 1, 'kiss': 1, 'stop': 1, 'bar': 1, \"don't\": 2, 'mind': 2, 'know': 2, 'so': 2, 'start': 2, 'boy': 2, 'girl': 2, 'singing': 2, 'doing': 2, 'somebody': 2, 'handmade': 2, 'may': 2, 'that': 2, 'much': 2, 'grab': 2, 'was': 2, 'say': 2, 'waist': 2, 'want': 2, \"let's\": 2, 'not': 2, 'crazy': 2, 'go': 2, 'to': 2, 'fill': 2, 'hours': 2, 'push': 3, 'then': 3, 'put': 3, 'room': 3, 'magnet': 3, 'up': 3, 'pull': 3, 'last': 3, 'do': 3, 'smell': 3, 'although': 3, 'falling': 3, 'were': 3, 'night': 3, 'heart': 3, 'for': 3, 'bedsheets': 3, 'talk': 4, 'too': 5, 'is': 5, 'every': 6, 'new': 6, 'follow': 6, 'brand': 6, 'of': 6, 'i': 6, 'day': 6, 'lead': 6, 'shape': 6, 'discovering': 6, 'something': 6, 'we': 7, 'a': 8, 'like': 10, 'me': 10, 'now': 11, 'baby': 14, 'you': 16, 'be': 16, 'body': 17, 'the': 18, 'your': 21, 'with': 22, \"i'm\": 23, 'and': 23, 'love': 25, 'in': 27, 'my': 33, 'come': 37, 'on': 40}\n"
     ]
    }
   ],
   "source": [
    "word_freq = {'love': 25, 'conversation': 1, 'every': 6, \"we're\": 1, 'plate': 1, 'sour': 1, 'jukebox': 1, 'now': 11, 'taxi': 1, 'fast': 1, 'bag': 1, 'man': 1, 'push': 3, 'baby': 14, 'going': 1, 'you': 16, \"don't\": 2, 'one': 1, 'mind': 2, 'backseat': 1, 'friends': 1, 'then': 3, 'know': 2, 'take': 1, 'play': 1, 'okay': 1, 'so': 2, 'begin': 1, 'start': 2, 'over': 1, 'body': 17, 'boy': 2, 'just': 1, 'we': 7, 'are': 1, 'girl': 2, 'tell': 1, 'singing': 2, 'drinking': 1, 'put': 3, 'our': 1, 'where': 1, \"i'll\": 1, 'all': 1, \"isn't\": 1, 'make': 1, 'lover': 1, 'get': 1, 'radio': 1, 'give': 1, \"i'm\": 23, 'like': 10, 'can': 1, 'doing': 2, 'with': 22, 'club': 1, 'come': 37, 'it': 1, 'somebody': 2, 'handmade': 2, 'out': 1, 'new': 6, 'room': 3, 'chance': 1, 'follow': 6, 'in': 27, 'may': 2, 'brand': 6, 'that': 2, 'magnet': 3, 'up': 3, 'first': 1, 'and': 23, 'pull': 3, 'of': 6, 'table': 1, 'much': 2, 'last': 3, 'i': 6, 'thrifty': 1, 'grab': 2, 'was': 2, 'driver': 1, 'slow': 1, 'dance': 1, 'the': 18, 'say': 2, 'trust': 1, 'family': 1, 'week': 1, 'date': 1, 'me': 10, 'do': 3, 'waist': 2, 'smell': 3, 'day': 6, 'although': 3, 'your': 21, 'leave': 1, 'want': 2, \"let's\": 2, 'lead': 6, 'at': 1, 'hand': 1, 'how': 1, 'talk': 4, 'not': 2, 'eat': 1, 'falling': 3, 'about': 1, 'story': 1, 'sweet': 1, 'best': 1, 'crazy': 2, 'let': 1, 'too': 5, 'van': 1, 'shots': 1, 'go': 2, 'to': 2, 'a': 8, 'my': 33, 'is': 5, 'place': 1, 'find': 1, 'shape': 6, 'on': 40, 'kiss': 1, 'were': 3, 'night': 3, 'heart': 3, 'for': 3, 'discovering': 6, 'something': 6, 'be': 16, 'bedsheets': 3, 'fill': 2, 'hours': 2, 'stop': 1, 'bar': 1}\n",
    "from collections import OrderedDict\n",
    "class Dict:\n",
    "    def dictionary():\n",
    "        word_freq2 = OrderedDict(sorted(word_freq.items(), key=lambda x: x[1]))\n",
    "        print(f\"The final dict is {dict(word_freq2)}\")\n",
    "\n",
    "\n",
    "Dict.dictionary()"
   ]
  }
 ],
 "metadata": {
  "colab": {
   "name": "2.2_lab-python-basics-1.ipynb",
   "provenance": []
  },
  "kernelspec": {
   "display_name": "Python 3 (ipykernel)",
   "language": "python",
   "name": "python3"
  },
  "language_info": {
   "codemirror_mode": {
    "name": "ipython",
    "version": 3
   },
   "file_extension": ".py",
   "mimetype": "text/x-python",
   "name": "python",
   "nbconvert_exporter": "python",
   "pygments_lexer": "ipython3",
   "version": "3.9.7"
  }
 },
 "nbformat": 4,
 "nbformat_minor": 5
}
